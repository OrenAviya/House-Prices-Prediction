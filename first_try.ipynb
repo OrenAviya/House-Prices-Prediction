{
 "cells": [
  {
   "cell_type": "code",
   "execution_count": 77,
   "id": "95ec69f5-2004-490f-8a41-898128691a76",
   "metadata": {},
   "outputs": [],
   "source": [
    "import pandas as pd\n",
    "import seaborn as sns\n",
    "import matplotlib.pyplot as plt\n",
    "from sklearn.model_selection import GridSearchCV, train_test_split\n",
    "from sklearn.preprocessing import StandardScaler, OneHotEncoder, PowerTransformer, MinMaxScaler\n",
    "from sklearn.impute import SimpleImputer\n",
    "from sklearn.compose import ColumnTransformer\n",
    "from sklearn.pipeline import Pipeline\n",
    "from sklearn.linear_model import LinearRegression\n",
    "from sklearn.tree import DecisionTreeRegressor\n",
    "from sklearn.svm import SVR\n",
    "from sklearn.ensemble import AdaBoostRegressor, RandomForestRegressor, GradientBoostingRegressor\n",
    "from sklearn.neighbors import KNeighborsRegressor\n",
    "from sklearn.decomposition import TruncatedSVD\n",
    "from sklearn.metrics import mean_squared_error, r2_score\n",
    "import numpy as np\n"
   ]
  },
  {
   "cell_type": "code",
   "execution_count": 93,
   "id": "94d76b42-dec7-4feb-8078-64e3cfbdf628",
   "metadata": {},
   "outputs": [],
   "source": [
    "\n",
    "# שלב 1: טעינת הנתונים\n",
    "train_data = pd.read_csv('train.csv')\n",
    "test_data = pd.read_csv('test.csv')\n",
    "submission_data = pd.read_csv('sample_submission.csv')\n",
    "\n",
    "# שמירת עמודת ה-ID\n",
    "train_ids = train_data['Id']\n",
    "test_ids = test_data['Id']"
   ]
  },
  {
   "cell_type": "code",
   "execution_count": 94,
   "id": "23845a10-843e-42bb-a481-ac76cab9c09f",
   "metadata": {},
   "outputs": [],
   "source": [
    "\n",
    "# שלב 2: הסרת עמודות עם פחות מ-100 ערכים שאינם NaN\n",
    "train_data = train_data.dropna(thresh=100, axis=1)\n",
    "test_data = test_data[train_data.columns.drop('SalePrice', errors='ignore')]  # שמירת אותן עמודות גם ב-test data למעט עמודת המחיר\n"
   ]
  },
  {
   "cell_type": "code",
   "execution_count": 95,
   "id": "4849d3b3-db62-464b-8045-8041d545c9f5",
   "metadata": {},
   "outputs": [],
   "source": [
    "# שלב 3: חישוב קורלציות עם המחיר ומחיקת עמודות מספריות עם קורלציה נמוכה\n",
    "numerical_features = train_data.select_dtypes(include=['int64', 'float64']).columns\n",
    "correlation_matrix = train_data[numerical_features].corr()\n",
    "price_correlation = correlation_matrix['SalePrice'].abs().sort_values(ascending=False)\n",
    "threshold = 0.1  # סף לקורלציה נמוכה\n",
    "high_corr_features = price_correlation[price_correlation > threshold].index\n",
    "\n",
    "# שמירה על העמודות המספריות עם קורלציה גבוהה והוספת העמודות הקטגוריאליות\n",
    "categorical_features = train_data.select_dtypes(include=['object']).columns\n",
    "selected_features = list(high_corr_features) + list(categorical_features)\n"
   ]
  },
  {
   "cell_type": "code",
   "execution_count": 96,
   "id": "042a8974-e557-483a-aa47-efbcfdf3e04f",
   "metadata": {},
   "outputs": [],
   "source": [
    "# הוספת עמודת ה-ID\n",
    "selected_features = ['Id'] + selected_features + ['SalePrice']\n",
    "train_data = train_data[selected_features]\n",
    "selected_features_noprice = [feature for feature in selected_features if feature != 'SalePrice']\n",
    "test_data = test_data[[feature for feature in selected_features_noprice if feature in test_data.columns]]\n"
   ]
  },
  {
   "cell_type": "code",
   "execution_count": 97,
   "id": "937479e8-e625-4600-9984-c2ac0703cbb4",
   "metadata": {},
   "outputs": [],
   "source": [
    "# התאמת העמודות ב-test_data לפי train_data\n",
    "missing_cols = set(selected_features_noprice) - set(test_data.columns)\n",
    "for col in missing_cols:\n",
    "    test_data[col] = 0  # נניח ערך ברירת מחדל\n",
    "\n",
    "test_data = test_data[selected_features_noprice]\n"
   ]
  },
  {
   "cell_type": "code",
   "execution_count": 98,
   "id": "67e13a19-ea20-4211-b610-f61a3623dd27",
   "metadata": {},
   "outputs": [],
   "source": [
    "# שלב 4: הסרת ערכים חריגים (Outliers) עבור עמודות מספריות בלבד הקיימות בנתונים\n",
    "valid_numerical_features = [feature for feature in high_corr_features if feature in train_data.columns]\n",
    "Q1 = train_data[valid_numerical_features].quantile(0.25)\n",
    "Q3 = train_data[valid_numerical_features].quantile(0.75)\n",
    "IQR = Q3 - Q1\n",
    "outlier_condition = ~((train_data[valid_numerical_features] < (Q1 - 1.5 * IQR)) | (train_data[valid_numerical_features] > (Q3 + 1.5 * IQR))).any(axis=1)\n",
    "train_data = train_data[outlier_condition]"
   ]
  },
  {
   "cell_type": "code",
   "execution_count": 99,
   "id": "24728847-ed0f-44d4-be71-6a7e03f58cbd",
   "metadata": {},
   "outputs": [],
   "source": [
    "# הסרת עמודות כפולות אם קיימות\n",
    "train_data = train_data.loc[:,~train_data.columns.duplicated()]\n"
   ]
  },
  {
   "cell_type": "code",
   "execution_count": 100,
   "id": "1cb740b1-bc5f-45df-846d-81f74f37d867",
   "metadata": {
    "scrolled": true
   },
   "outputs": [],
   "source": [
    "# שלב 5: הפרדת משתנים תלויים ובלתי תלויים\n",
    "X = train_data.drop(['SalePrice'], axis=1)\n",
    "y = train_data['SalePrice'].values.ravel()  # ודא כי y חד-ממדי\n"
   ]
  },
  {
   "cell_type": "code",
   "execution_count": 102,
   "id": "d86367c9-e7f0-476e-a070-a197033e7d4b",
   "metadata": {},
   "outputs": [
    {
     "data": {
      "text/plain": [
       "777"
      ]
     },
     "execution_count": 102,
     "metadata": {},
     "output_type": "execute_result"
    }
   ],
   "source": [
    "len(y)"
   ]
  },
  {
   "cell_type": "code",
   "execution_count": 103,
   "id": "c610c77c-51a1-413e-8d29-c5520eed08bb",
   "metadata": {},
   "outputs": [],
   "source": [
    "# שלב 6: חלוקה לסט אימון וסט אימות\n",
    "X_train, X_valid, y_train, y_valid = train_test_split(X, y, test_size=0.2, random_state=42)\n"
   ]
  },
  {
   "cell_type": "code",
   "execution_count": 104,
   "id": "d7531981-08da-432c-a29e-b1f0c785263e",
   "metadata": {},
   "outputs": [],
   "source": [
    "# הסרת עמודת ה-ID לאחר החלוקה לסטים\n",
    "X_train = X_train.drop(['Id'], axis=1)\n",
    "X_valid = X_valid.drop(['Id'], axis=1)\n",
    "test_data_no_id = test_data.drop(['Id'], axis=1)\n"
   ]
  },
  {
   "cell_type": "code",
   "execution_count": 105,
   "id": "745b87c1-e43f-4568-aa1c-a23874a2fa24",
   "metadata": {},
   "outputs": [],
   "source": [
    "# עדכון משתנים מספריים וקטגוריאליים אחרי הסינון\n",
    "numerical_features = X_train.select_dtypes(include=['int64', 'float64']).columns\n",
    "categorical_features = X_train.select_dtypes(include=['object']).columns\n"
   ]
  },
  {
   "cell_type": "code",
   "execution_count": 106,
   "id": "f2d7d5e7-e370-4aad-aa1a-a69b49d67b81",
   "metadata": {},
   "outputs": [],
   "source": [
    "\n",
    "# שלב 7: יצירת Pipelines לטיפול בערכים חסרים וקטגוריאליים ולהוספת TruncatedSVD\n",
    "numerical_pipeline = Pipeline(steps=[\n",
    "    ('imputer', SimpleImputer(strategy='mean')),  # מילוי ערכים חסרים במספר ממוצע\n",
    "    ('scaler', StandardScaler()),  # סטנדרטיזציה\n",
    "    ('transformer', PowerTransformer())  # שינוי התפלגות הנתונים ללוגריתם או תפלגות אחרת\n",
    "])\n",
    "\n",
    "categorical_pipeline = Pipeline(steps=[\n",
    "    ('imputer', SimpleImputer(strategy='most_frequent')),  # מילוי ערכים חסרים בערך הנפוץ ביותר\n",
    "    ('onehot', OneHotEncoder(handle_unknown='ignore'))  # קידוד OneHot לערכים קטגוריאליים\n",
    "])\n",
    "\n",
    "preprocessor = ColumnTransformer(\n",
    "    transformers=[\n",
    "        ('num', numerical_pipeline, numerical_features),\n",
    "        ('cat', categorical_pipeline, categorical_features)\n",
    "    ])\n",
    "\n",
    "# הוספת TruncatedSVD לצמצום ממדיות ולאחר מכן MinMaxScaler לנרמול\n",
    "pipeline_with_svd = Pipeline(steps=[\n",
    "    ('preprocessor', preprocessor),\n",
    "    ('svd', TruncatedSVD(n_components=50)),  # צמצום למספר רכיבים מתאים\n",
    "    ('scaler', MinMaxScaler())  # נרמול\n",
    "])\n",
    "\n"
   ]
  },
  {
   "cell_type": "code",
   "execution_count": 107,
   "id": "2202ca2f-7b6f-4d55-8b2b-8cb12af0a8ff",
   "metadata": {},
   "outputs": [],
   "source": [
    "# שלב 8: עיבוד הנתונים עם TruncatedSVD ו-MinMaxScaler\n",
    "X_train_processed = pipeline_with_svd.fit_transform(X_train)\n",
    "X_valid_processed = pipeline_with_svd.transform(X_valid)\n",
    "X_test_processed = pipeline_with_svd.transform(test_data_no_id)\n"
   ]
  },
  {
   "cell_type": "code",
   "execution_count": null,
   "id": "f26b3c0c-3406-4852-9e5b-a249cd588a6e",
   "metadata": {},
   "outputs": [],
   "source": []
  },
  {
   "cell_type": "code",
   "execution_count": 109,
   "id": "0493b170-9e66-479f-972a-607a912cec36",
   "metadata": {},
   "outputs": [],
   "source": [
    "\n",
    "# פונקציה לכוונון היפר-פרמטרים\n",
    "def tune_model(model, param_grid):\n",
    "    grid_search = GridSearchCV(model, param_grid, cv=5, scoring='neg_mean_squared_error')\n",
    "    grid_search.fit(X_train_processed, y_train)\n",
    "    return grid_search.best_estimator_\n"
   ]
  },
  {
   "cell_type": "code",
   "execution_count": 110,
   "id": "47e83536-025e-4aa7-a3f9-86f0124a3a7c",
   "metadata": {},
   "outputs": [],
   "source": [
    "\n",
    "# שלב 9: הגדרת המודלים וכוונון היפר-פרמטרים\n",
    "models = {\n",
    "    \"Linear Regression\": LinearRegression(),\n",
    "    \"Decision Tree\": tune_model(DecisionTreeRegressor(), {'max_depth': [5, 10, 20, None]}),\n",
    "    \"SVM\": tune_model(SVR(), {'C': [0.1, 1, 10], 'kernel': ['linear', 'poly', 'rbf']}),\n",
    "    \"AdaBoost\": tune_model(AdaBoostRegressor(), {'n_estimators': [50, 100, 200]}),\n",
    "    \"K-Nearest Neighbors\": tune_model(KNeighborsRegressor(), {'n_neighbors': [3, 5, 10]}),\n",
    "    \"Random Forest\": tune_model(RandomForestRegressor(), {'n_estimators': [100, 200, 300], 'max_depth': [5, 10, 20, None]}),\n",
    "    \"Gradient Boosting\": tune_model(GradientBoostingRegressor(), {'n_estimators': [100, 200, 300], 'learning_rate': [0.01, 0.1, 0.2]}),\n",
    "    # \"XGBoost\": tune_model(xgb.XGBRegressor(), {'n_estimators': [100, 200, 300], 'learning_rate': [0.01, 0.1, 0.2], 'max_depth': [3, 5, 7]})\n",
    "}\n"
   ]
  },
  {
   "cell_type": "code",
   "execution_count": null,
   "id": "a06eeba9-dc7d-4abf-8cb6-9aab1e7723ac",
   "metadata": {},
   "outputs": [
    {
     "name": "stdout",
     "output_type": "stream",
     "text": [
      "Linear Regression - MSE: 413705139.69, R2: 0.84\n",
      "Decision Tree - MSE: 631609300.62, R2: 0.75\n",
      "SVM - MSE: 879887007.31, R2: 0.66\n",
      "AdaBoost - MSE: 457580502.84, R2: 0.82\n",
      "K-Nearest Neighbors - MSE: 798754572.31, R2: 0.69\n",
      "Random Forest - MSE: 435194126.95, R2: 0.83\n"
     ]
    }
   ],
   "source": [
    "\n",
    "# הרצת המודלים והדפסת התוצאות\n",
    "results = {}\n",
    "for name, model in models.items():\n",
    "    model.fit(X_train_processed, y_train)\n",
    "    predictions = model.predict(X_valid_processed)\n",
    "    mse = mean_squared_error(y_valid, predictions)\n",
    "    r2 = r2_score(y_valid, predictions)\n",
    "    results[name] = {\"MSE\": mse, \"R2\": r2}\n",
    "    print(f\"{name} - MSE: {mse:.2f}, R2: {r2:.2f}\")\n",
    "\n"
   ]
  },
  {
   "cell_type": "code",
   "execution_count": null,
   "id": "9ce9cf46-1d45-4052-bd14-fdff206112f4",
   "metadata": {},
   "outputs": [],
   "source": [
    "# שימוש ב-ID והכנת הקובץ להגשה\n",
    "best_model = models[\"XGBoost\"]  # נניח שהמודל הטוב ביותר הוא XGBoost\n",
    "final_predictions = best_model.predict(X_test_processed)\n",
    "\n",
    "submission = pd.DataFrame({\n",
    "    'Id': test_ids,\n",
    "    'SalePrice': final_predictions\n",
    "})\n",
    "\n",
    "submission.to_csv('submission.csv', index=False)\n",
    "\n",
    "# הצגת הקורלציות\n",
    "print(\"קורלציות עם מחיר הדירה:\")\n",
    "print(price_correlation)\n",
    "\n",
    "# הצגת מפת חום של הקורלציות\n",
    "plt.figure(figsize=(12, 10))\n",
    "sns.heatmap(correlation_matrix, annot=True, fmt=\".2f\", cmap='coolwarm', vmin=-1, vmax=1)\n",
    "plt.title('Correlation Matrix of Numerical Features')\n",
    "plt.show()\n"
   ]
  }
 ],
 "metadata": {
  "kernelspec": {
   "display_name": "Python 3 (ipykernel)",
   "language": "python",
   "name": "python3"
  },
  "language_info": {
   "codemirror_mode": {
    "name": "ipython",
    "version": 3
   },
   "file_extension": ".py",
   "mimetype": "text/x-python",
   "name": "python",
   "nbconvert_exporter": "python",
   "pygments_lexer": "ipython3",
   "version": "3.12.2"
  }
 },
 "nbformat": 4,
 "nbformat_minor": 5
}
